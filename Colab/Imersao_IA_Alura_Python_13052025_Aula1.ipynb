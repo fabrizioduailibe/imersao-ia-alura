{
  "nbformat": 4,
  "nbformat_minor": 0,
  "metadata": {
    "colab": {
      "provenance": [],
      "authorship_tag": "ABX9TyOEt3YyjUWobtRD2noqzl9r",
      "include_colab_link": true
    },
    "kernelspec": {
      "name": "python3",
      "display_name": "Python 3"
    },
    "language_info": {
      "name": "python"
    }
  },
  "cells": [
    {
      "cell_type": "markdown",
      "metadata": {
        "id": "view-in-github",
        "colab_type": "text"
      },
      "source": [
        "<a href=\"https://colab.research.google.com/github/fabrizioduailibe/imersao-ia-alura/blob/main/Colab/Imersao_IA_Alura_Python_13052025_Aula1.ipynb\" target=\"_parent\"><img src=\"https://colab.research.google.com/assets/colab-badge.svg\" alt=\"Open In Colab\"/></a>"
      ]
    },
    {
      "cell_type": "code",
      "execution_count": null,
      "metadata": {
        "colab": {
          "base_uri": "https://localhost:8080/"
        },
        "id": "tcc_7H6T2aOO",
        "outputId": "c8d92b46-b90d-4dbf-f181-ff6466c33f1e"
      },
      "outputs": [
        {
          "output_type": "execute_result",
          "data": {
            "text/plain": [
              "9"
            ]
          },
          "metadata": {},
          "execution_count": 2
        }
      ],
      "source": [
        "2+7"
      ]
    },
    {
      "cell_type": "code",
      "source": [
        "9-5"
      ],
      "metadata": {
        "colab": {
          "base_uri": "https://localhost:8080/"
        },
        "id": "vRBNnwwK5BXY",
        "outputId": "a4847d47-a8c6-460f-cac1-fe8393bf3035"
      },
      "execution_count": null,
      "outputs": [
        {
          "output_type": "execute_result",
          "data": {
            "text/plain": [
              "4"
            ]
          },
          "metadata": {},
          "execution_count": 3
        }
      ]
    },
    {
      "cell_type": "code",
      "source": [
        "  3 * 5"
      ],
      "metadata": {
        "colab": {
          "base_uri": "https://localhost:8080/"
        },
        "id": "zsymRZ1P5IH6",
        "outputId": "802f9297-a026-4b1d-8f7d-cc9bbb233b42"
      },
      "execution_count": null,
      "outputs": [
        {
          "output_type": "execute_result",
          "data": {
            "text/plain": [
              "15"
            ]
          },
          "metadata": {},
          "execution_count": 4
        }
      ]
    },
    {
      "cell_type": "code",
      "source": [
        "9 / 2"
      ],
      "metadata": {
        "colab": {
          "base_uri": "https://localhost:8080/"
        },
        "id": "avBIQXeh5Mnw",
        "outputId": "a8d7f6d1-bc6c-45c5-c004-dc78d4416e3f"
      },
      "execution_count": null,
      "outputs": [
        {
          "output_type": "execute_result",
          "data": {
            "text/plain": [
              "4.5"
            ]
          },
          "metadata": {},
          "execution_count": 6
        }
      ]
    },
    {
      "cell_type": "code",
      "source": [
        "primeira_op = 2847 + 7328\n",
        "segunda_op = 8-5\n",
        "print(\"Primeira operação = \",primeira_op)\n",
        "print(\"Segunda operação = \",segunda_op)\n",
        "print(\"PRODUTO DAS DUAS OPERAÇÕES = \", primeira_op*segunda_op)"
      ],
      "metadata": {
        "colab": {
          "base_uri": "https://localhost:8080/"
        },
        "id": "HdBTVVEP6mU7",
        "outputId": "7dcc906b-fcca-4c53-cfdb-2d1886665736"
      },
      "execution_count": null,
      "outputs": [
        {
          "output_type": "stream",
          "name": "stdout",
          "text": [
            "Primeira operação =  10175\n",
            "Segunda operação =  3\n",
            "PRODUTO DAS DUAS OPERAÇÕES =  30525\n"
          ]
        }
      ]
    },
    {
      "cell_type": "code",
      "source": [
        "# Exponencial\n",
        "2 ** 3"
      ],
      "metadata": {
        "colab": {
          "base_uri": "https://localhost:8080/"
        },
        "id": "5MK3Fr_VgLcu",
        "outputId": "7799d83c-b11b-4bd7-9f38-230104101520"
      },
      "execution_count": null,
      "outputs": [
        {
          "output_type": "execute_result",
          "data": {
            "text/plain": [
              "8"
            ]
          },
          "metadata": {},
          "execution_count": 2
        }
      ]
    },
    {
      "cell_type": "code",
      "source": [
        "# Imprimir na tela com f-string\n",
        "print(f\"O produto da primeira operação ( {primeira_op} ) com a segunda operação ( {segunda_op} ) é {primeira_op*segunda_op}.\")"
      ],
      "metadata": {
        "colab": {
          "base_uri": "https://localhost:8080/"
        },
        "id": "YXaZygrdgpgE",
        "outputId": "8e3bda61-4660-4f12-d713-c0b17bde9f94"
      },
      "execution_count": null,
      "outputs": [
        {
          "output_type": "stream",
          "name": "stdout",
          "text": [
            "O produto da primeira operação ( 10175 ) com a segunda operação ( 3 ) é 30525.\n"
          ]
        }
      ]
    },
    {
      "cell_type": "code",
      "source": [
        "nome1 = input(\"Digite o 1.o nome: \")\n",
        "nome2 = input(\"Digite o 2.o nome: \")\n",
        "print(f\"NOME COMPLETO = {nome1} {nome2}\")"
      ],
      "metadata": {
        "colab": {
          "base_uri": "https://localhost:8080/"
        },
        "id": "QdAkRhBfiPw7",
        "outputId": "352c0c78-1406-4646-99bd-7dc93bc3dc08"
      },
      "execution_count": null,
      "outputs": [
        {
          "output_type": "stream",
          "name": "stdout",
          "text": [
            "Digite o 1.o nome: Fabrizio\n",
            "Digite o 2.o nome: Duailibe\n",
            "NOME COMPLETO = Fabrizio Duailibe\n"
          ]
        }
      ]
    },
    {
      "cell_type": "code",
      "source": [
        "idade = input(\"Digite a sua idade:\")\n",
        "\n",
        "if int(idade) >= 18:\n",
        "  print(\"Você é maior de idade!\")\n",
        "  print(\"Você também já pode dirigir!\")\n",
        "else:\n",
        "  print(\"Você é menor de idade!\")"
      ],
      "metadata": {
        "colab": {
          "base_uri": "https://localhost:8080/"
        },
        "id": "4wEG3rJWj7Bt",
        "outputId": "57acb259-9bd4-44df-f0b0-7f19298ccd07"
      },
      "execution_count": null,
      "outputs": [
        {
          "output_type": "stream",
          "name": "stdout",
          "text": [
            "Digite a sua idade:50\n",
            "Você é maior de idade!\n",
            "Você também já pode dirigir!\n"
          ]
        }
      ]
    },
    {
      "cell_type": "code",
      "source": [
        "def verificarIdade(age):\n",
        "  if int(age) >= 18:\n",
        "    print(\"Você é maior de idade!\")\n",
        "    print(\"Você já pode dirigir!\")\n",
        "  else:\n",
        "    print(\"Você é menor de idade. Não pode dirigir!\")"
      ],
      "metadata": {
        "id": "FbyMEFC3lnPV"
      },
      "execution_count": null,
      "outputs": []
    },
    {
      "cell_type": "code",
      "source": [
        "idade = input(\"Informe a sua idade: \")\n",
        "\n",
        "verificarIdade(idade)"
      ],
      "metadata": {
        "colab": {
          "base_uri": "https://localhost:8080/"
        },
        "id": "SEltUK7nmC24",
        "outputId": "e67730a1-a5f3-40c3-b516-86ee31537525"
      },
      "execution_count": null,
      "outputs": [
        {
          "output_type": "stream",
          "name": "stdout",
          "text": [
            "Informe a sua idade: 50\n",
            "Você é maior de idade!\n",
            "Você já pode dirigir!\n"
          ]
        }
      ]
    },
    {
      "cell_type": "code",
      "source": [
        "contador = 0\n",
        "while contador<5:\n",
        "  print(f\"Contagem: {contador}\")\n",
        "  contador += 1\n",
        "\n",
        "print(\"Fim da contagem\")"
      ],
      "metadata": {
        "colab": {
          "base_uri": "https://localhost:8080/"
        },
        "id": "X-OP_bFboVqK",
        "outputId": "cd6ba2f2-0374-436f-c130-a1a206ae5445"
      },
      "execution_count": null,
      "outputs": [
        {
          "output_type": "stream",
          "name": "stdout",
          "text": [
            "Contagem: 0\n",
            "Contagem: 1\n",
            "Contagem: 2\n",
            "Contagem: 3\n",
            "Contagem: 4\n",
            "Fim da contagem\n"
          ]
        }
      ]
    },
    {
      "cell_type": "code",
      "source": [
        "modelos = [\"2.0 Flash\", \"2.5 Flash\", \"2.3 Pro\", \"Deep Research\", \"Personalized\"]\n",
        "\n",
        "for modelo in modelos:\n",
        "  print(modelo)"
      ],
      "metadata": {
        "colab": {
          "base_uri": "https://localhost:8080/"
        },
        "id": "jirIZ5qVo-XX",
        "outputId": "191c1054-21ae-418c-8d8b-2848b691b3b7"
      },
      "execution_count": null,
      "outputs": [
        {
          "output_type": "stream",
          "name": "stdout",
          "text": [
            "2.0 Flash\n",
            "2.5 Flash\n",
            "2.3 Pro\n",
            "Deep Research\n",
            "Personalized\n"
          ]
        }
      ]
    },
    {
      "cell_type": "code",
      "source": [
        "from google.colab import drive\n",
        "drive.mount('/content/drive')"
      ],
      "metadata": {
        "id": "V-jfvu50tpGx"
      },
      "execution_count": null,
      "outputs": []
    },
    {
      "cell_type": "code",
      "source": [
        "for i in range(0,len(modelos)):\n",
        "  print(modelos[i])"
      ],
      "metadata": {
        "colab": {
          "base_uri": "https://localhost:8080/"
        },
        "id": "LxZkZKxdoLBE",
        "outputId": "1dbec182-fa30-4ff4-f6de-80b4c821d8b0"
      },
      "execution_count": null,
      "outputs": [
        {
          "output_type": "stream",
          "name": "stdout",
          "text": [
            "2.0 Flash\n",
            "2.5 Flash\n",
            "2.3 Pro\n",
            "Deep Research\n",
            "Personalized\n"
          ]
        }
      ]
    },
    {
      "cell_type": "code",
      "source": [
        "dados = [{\"nome\": \"Ana Karine\", \"idade\": 47, \"cidade\": \"São Luís\"}, {\"nome\": \"Fabrizio\", \"idade\": 50, \"cidade\": \"São Paulo\"}]\n",
        "for dado in dados:\n",
        "  for chave, valor in dado.items():\n",
        "    print(f\"{chave}: {valor}\")\n",
        "  print(\"-----------\")"
      ],
      "metadata": {
        "colab": {
          "base_uri": "https://localhost:8080/"
        },
        "id": "URYXuHS_qJRr",
        "outputId": "af41db9f-1250-4d2f-ebd1-084963f0aee6"
      },
      "execution_count": null,
      "outputs": [
        {
          "output_type": "stream",
          "name": "stdout",
          "text": [
            "nome: Ana Karine\n",
            "idade: 47\n",
            "cidade: São Luís\n",
            "-----------\n",
            "nome: Fabrizio\n",
            "idade: 50\n",
            "cidade: São Paulo\n",
            "-----------\n"
          ]
        }
      ]
    }
  ]
}