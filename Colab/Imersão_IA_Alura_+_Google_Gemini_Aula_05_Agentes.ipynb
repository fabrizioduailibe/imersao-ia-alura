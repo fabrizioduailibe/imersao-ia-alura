{
  "nbformat": 4,
  "nbformat_minor": 0,
  "metadata": {
    "colab": {
      "provenance": [],
      "include_colab_link": true
    },
    "kernelspec": {
      "name": "python3",
      "display_name": "Python 3"
    },
    "language_info": {
      "name": "python"
    }
  },
  "cells": [
    {
      "cell_type": "markdown",
      "metadata": {
        "id": "view-in-github",
        "colab_type": "text"
      },
      "source": [
        "<a href=\"https://colab.research.google.com/github/fabrizioduailibe/imersao-ia-alura/blob/main/Colab/Imers%C3%A3o_IA_Alura_%2B_Google_Gemini_Aula_05_Agentes.ipynb\" target=\"_parent\"><img src=\"https://colab.research.google.com/assets/colab-badge.svg\" alt=\"Open In Colab\"/></a>"
      ]
    },
    {
      "cell_type": "code",
      "source": [
        "%pip -q install google-genai"
      ],
      "metadata": {
        "id": "UCCbECexLk_h"
      },
      "execution_count": null,
      "outputs": []
    },
    {
      "cell_type": "code",
      "source": [
        "# Configura a API Key do Google Gemini\n",
        "\n",
        "import os\n",
        "from google.colab import userdata\n",
        "\n",
        "os.environ[\"GOOGLE_API_KEY\"] = userdata.get('GOOGLE_API_KEY_1')"
      ],
      "metadata": {
        "id": "NfCqHo1tLk8P"
      },
      "execution_count": null,
      "outputs": []
    },
    {
      "cell_type": "code",
      "source": [
        "# Configura o cliente da SDK do Gemini\n",
        "\n",
        "from google import genai\n",
        "\n",
        "client = genai.Client()\n",
        "\n",
        "MODEL_ID = \"gemini-2.0-flash\""
      ],
      "metadata": {
        "id": "bV4w0H5TLk5g"
      },
      "execution_count": null,
      "outputs": []
    },
    {
      "cell_type": "code",
      "source": [
        "# FABRIZIO\n",
        "# Código alternativo para não depender da váriavel de ambiente padrão\n",
        "# GOOGLE_API_KEY\n",
        "\n",
        "import os\n",
        "from google.colab import userdata\n",
        "from google import genai\n",
        "\n",
        "os.environ[\"API_KEY_1\"] = userdata.get('GOOGLE_API_KEY_1')\n",
        "api_key_value = os.environ.get(\"API_KEY_1\")\n",
        "\n",
        "if api_key_value is None:\n",
        "#  raise ValueError(\"A variável de ambiente 'API_KEY_2' não está definida.\")\n",
        "  print(\"ERRO: A variável de ambiente 'API_KEY_1' não está definida.\")\n",
        "else:\n",
        "  client = genai.Client(api_key = api_key_value)\n",
        "  MODEL_ID = \"gemini-2.0-flash\""
      ],
      "metadata": {
        "id": "kAEj2sKz_U6X"
      },
      "execution_count": null,
      "outputs": []
    },
    {
      "cell_type": "code",
      "source": [
        "# Pergunta ao Gemini uma informação mais recente que seu conhecimento\n",
        "\n",
        "from IPython.display import HTML, Markdown\n",
        "\n",
        "# Perguntar pro modelo quando é a próxima imersão de IA ###############################################\n",
        "resposta = client.models.generate_content(\n",
        "    model=MODEL_ID,\n",
        "    contents=\"Quando é a próxima imersão IA com Google Gemini da Alura?\"\n",
        ")\n",
        "\n",
        "# Exibe a resposta formatada na tela\n",
        "display(Markdown(f\"Resposta:\\n {resposta.text}\"))"
      ],
      "metadata": {
        "id": "HwVP7Xi34Zuw",
        "colab": {
          "base_uri": "https://localhost:8080/",
          "height": 140
        },
        "outputId": "b92efd85-f923-4e0a-a34b-66e7d560b99a"
      },
      "execution_count": null,
      "outputs": [
        {
          "output_type": "display_data",
          "data": {
            "text/plain": [
              "<IPython.core.display.Markdown object>"
            ],
            "text/markdown": "Resposta:\n A Alura não oferece mais a Imersão IA com Google Gemini. O último evento ocorreu entre 29 de janeiro e 2 de fevereiro de 2024.\n\nVocê pode encontrar os vídeos da Imersão IA com Google Gemini no canal da Alura no YouTube:\n\n*   [https://www.youtube.com/playlist?list=PLxszUnP02wY-P7lYgL2VwK_x5j2HfkL4d](https://www.youtube.com/playlist?list=PLxszUnP02wY-P7lYgL2VwK_x5j2HfkL4d)\n\nAlém disso, a Alura oferece outros cursos e formações sobre inteligência artificial. Você pode verificar o catálogo deles para encontrar conteúdo relevante:\n\n*   [https://www.alura.com.br/cursos-online-ia-inteligencia-artificial](https://www.alura.com.br/cursos-online-ia-inteligencia-artificial)"
          },
          "metadata": {}
        }
      ]
    },
    {
      "cell_type": "code",
      "source": [
        "# Pergunta ao Gemini uma informação utilizando a busca do Google como contexto\n",
        "\n",
        "response = client.models.generate_content(\n",
        "    model=MODEL_ID,\n",
        "    contents='Quando é a próxima Imersão IA com Google Gemini da Alura?',\n",
        "    # Inserir a tool de busca do Google ###############################################\n",
        "    config={\"tools\": [{\"google_search\": {}}]}\n",
        ")\n",
        "\n",
        "# Exibe a resposta na tela\n",
        "display(Markdown(f\"Resposta:\\n {response.text}\"))"
      ],
      "metadata": {
        "id": "yXaZd7iZ4ftw",
        "colab": {
          "base_uri": "https://localhost:8080/",
          "height": 145
        },
        "outputId": "17e0d9fd-1531-44c8-f612-fcec84ed5f5c"
      },
      "execution_count": null,
      "outputs": [
        {
          "output_type": "display_data",
          "data": {
            "text/plain": [
              "<IPython.core.display.Markdown object>"
            ],
            "text/markdown": "Resposta:\n Com base nas informações encontradas, a Alura frequentemente oferece Imersões IA com Google Gemini, que são cursos online e gratuitos com certificado. A mais recente ocorreu em maio de 2025.\n\nPara saber quando será a próxima Imersão IA com Google Gemini da Alura, recomendo que você:\n\n*   **Verifique o site da Alura:** Procure na seção de cursos ou imersões para ver se há alguma data futura já anunciada.\n*   **Siga a Alura nas redes sociais:** A Alura costuma divulgar novas edições de seus cursos e imersões em suas páginas de mídia social.\n*   **Inscreva-se na newsletter da Alura:** Assim, você receberá informações sobre os próximos eventos e cursos diretamente por e-mail."
          },
          "metadata": {}
        }
      ]
    },
    {
      "cell_type": "code",
      "source": [
        "# Exibe a busca\n",
        "print(f\"Busca realizada: {response.candidates[0].grounding_metadata.web_search_queries}\")\n",
        "# Exibe as URLs nas quais ele se baseou\n",
        "print(f\"Páginas utilizadas na resposta: {', '.join([site.web.title for site in response.candidates[0].grounding_metadata.grounding_chunks])}\")\n",
        "print()\n",
        "display(HTML(response.candidates[0].grounding_metadata.search_entry_point.rendered_content))"
      ],
      "metadata": {
        "id": "xHSNlTd84heJ",
        "colab": {
          "base_uri": "https://localhost:8080/",
          "height": 116
        },
        "outputId": "f429f5aa-cfb8-4d1a-ac88-04ae63039081"
      },
      "execution_count": null,
      "outputs": [
        {
          "output_type": "stream",
          "name": "stdout",
          "text": [
            "Busca realizada: ['Alura Imersão IA Google Gemini', 'próxima Imersão IA com Google Gemini da Alura']\n",
            "Páginas utilizadas na resposta: educacao.mg.gov.br, youtube.com, youtube.com, tecmundo.com.br, alura.com.br\n",
            "\n"
          ]
        },
        {
          "output_type": "display_data",
          "data": {
            "text/plain": [
              "<IPython.core.display.HTML object>"
            ],
            "text/html": [
              "<style>\n",
              ".container {\n",
              "  align-items: center;\n",
              "  border-radius: 8px;\n",
              "  display: flex;\n",
              "  font-family: Google Sans, Roboto, sans-serif;\n",
              "  font-size: 14px;\n",
              "  line-height: 20px;\n",
              "  padding: 8px 12px;\n",
              "}\n",
              ".chip {\n",
              "  display: inline-block;\n",
              "  border: solid 1px;\n",
              "  border-radius: 16px;\n",
              "  min-width: 14px;\n",
              "  padding: 5px 16px;\n",
              "  text-align: center;\n",
              "  user-select: none;\n",
              "  margin: 0 8px;\n",
              "  -webkit-tap-highlight-color: transparent;\n",
              "}\n",
              ".carousel {\n",
              "  overflow: auto;\n",
              "  scrollbar-width: none;\n",
              "  white-space: nowrap;\n",
              "  margin-right: -12px;\n",
              "}\n",
              ".headline {\n",
              "  display: flex;\n",
              "  margin-right: 4px;\n",
              "}\n",
              ".gradient-container {\n",
              "  position: relative;\n",
              "}\n",
              ".gradient {\n",
              "  position: absolute;\n",
              "  transform: translate(3px, -9px);\n",
              "  height: 36px;\n",
              "  width: 9px;\n",
              "}\n",
              "@media (prefers-color-scheme: light) {\n",
              "  .container {\n",
              "    background-color: #fafafa;\n",
              "    box-shadow: 0 0 0 1px #0000000f;\n",
              "  }\n",
              "  .headline-label {\n",
              "    color: #1f1f1f;\n",
              "  }\n",
              "  .chip {\n",
              "    background-color: #ffffff;\n",
              "    border-color: #d2d2d2;\n",
              "    color: #5e5e5e;\n",
              "    text-decoration: none;\n",
              "  }\n",
              "  .chip:hover {\n",
              "    background-color: #f2f2f2;\n",
              "  }\n",
              "  .chip:focus {\n",
              "    background-color: #f2f2f2;\n",
              "  }\n",
              "  .chip:active {\n",
              "    background-color: #d8d8d8;\n",
              "    border-color: #b6b6b6;\n",
              "  }\n",
              "  .logo-dark {\n",
              "    display: none;\n",
              "  }\n",
              "  .gradient {\n",
              "    background: linear-gradient(90deg, #fafafa 15%, #fafafa00 100%);\n",
              "  }\n",
              "}\n",
              "@media (prefers-color-scheme: dark) {\n",
              "  .container {\n",
              "    background-color: #1f1f1f;\n",
              "    box-shadow: 0 0 0 1px #ffffff26;\n",
              "  }\n",
              "  .headline-label {\n",
              "    color: #fff;\n",
              "  }\n",
              "  .chip {\n",
              "    background-color: #2c2c2c;\n",
              "    border-color: #3c4043;\n",
              "    color: #fff;\n",
              "    text-decoration: none;\n",
              "  }\n",
              "  .chip:hover {\n",
              "    background-color: #353536;\n",
              "  }\n",
              "  .chip:focus {\n",
              "    background-color: #353536;\n",
              "  }\n",
              "  .chip:active {\n",
              "    background-color: #464849;\n",
              "    border-color: #53575b;\n",
              "  }\n",
              "  .logo-light {\n",
              "    display: none;\n",
              "  }\n",
              "  .gradient {\n",
              "    background: linear-gradient(90deg, #1f1f1f 15%, #1f1f1f00 100%);\n",
              "  }\n",
              "}\n",
              "</style>\n",
              "<div class=\"container\">\n",
              "  <div class=\"headline\">\n",
              "    <svg class=\"logo-light\" width=\"18\" height=\"18\" viewBox=\"9 9 35 35\" fill=\"none\" xmlns=\"http://www.w3.org/2000/svg\">\n",
              "      <path fill-rule=\"evenodd\" clip-rule=\"evenodd\" d=\"M42.8622 27.0064C42.8622 25.7839 42.7525 24.6084 42.5487 23.4799H26.3109V30.1568H35.5897C35.1821 32.3041 33.9596 34.1222 32.1258 35.3448V39.6864H37.7213C40.9814 36.677 42.8622 32.2571 42.8622 27.0064V27.0064Z\" fill=\"#4285F4\"/>\n",
              "      <path fill-rule=\"evenodd\" clip-rule=\"evenodd\" d=\"M26.3109 43.8555C30.9659 43.8555 34.8687 42.3195 37.7213 39.6863L32.1258 35.3447C30.5898 36.3792 28.6306 37.0061 26.3109 37.0061C21.8282 37.0061 18.0195 33.9811 16.6559 29.906H10.9194V34.3573C13.7563 39.9841 19.5712 43.8555 26.3109 43.8555V43.8555Z\" fill=\"#34A853\"/>\n",
              "      <path fill-rule=\"evenodd\" clip-rule=\"evenodd\" d=\"M16.6559 29.8904C16.3111 28.8559 16.1074 27.7588 16.1074 26.6146C16.1074 25.4704 16.3111 24.3733 16.6559 23.3388V18.8875H10.9194C9.74388 21.2072 9.06992 23.8247 9.06992 26.6146C9.06992 29.4045 9.74388 32.022 10.9194 34.3417L15.3864 30.8621L16.6559 29.8904V29.8904Z\" fill=\"#FBBC05\"/>\n",
              "      <path fill-rule=\"evenodd\" clip-rule=\"evenodd\" d=\"M26.3109 16.2386C28.85 16.2386 31.107 17.1164 32.9095 18.8091L37.8466 13.8719C34.853 11.082 30.9659 9.3736 26.3109 9.3736C19.5712 9.3736 13.7563 13.245 10.9194 18.8875L16.6559 23.3388C18.0195 19.2636 21.8282 16.2386 26.3109 16.2386V16.2386Z\" fill=\"#EA4335\"/>\n",
              "    </svg>\n",
              "    <svg class=\"logo-dark\" width=\"18\" height=\"18\" viewBox=\"0 0 48 48\" xmlns=\"http://www.w3.org/2000/svg\">\n",
              "      <circle cx=\"24\" cy=\"23\" fill=\"#FFF\" r=\"22\"/>\n",
              "      <path d=\"M33.76 34.26c2.75-2.56 4.49-6.37 4.49-11.26 0-.89-.08-1.84-.29-3H24.01v5.99h8.03c-.4 2.02-1.5 3.56-3.07 4.56v.75l3.91 2.97h.88z\" fill=\"#4285F4\"/>\n",
              "      <path d=\"M15.58 25.77A8.845 8.845 0 0 0 24 31.86c1.92 0 3.62-.46 4.97-1.31l4.79 3.71C31.14 36.7 27.65 38 24 38c-5.93 0-11.01-3.4-13.45-8.36l.17-1.01 4.06-2.85h.8z\" fill=\"#34A853\"/>\n",
              "      <path d=\"M15.59 20.21a8.864 8.864 0 0 0 0 5.58l-5.03 3.86c-.98-2-1.53-4.25-1.53-6.64 0-2.39.55-4.64 1.53-6.64l1-.22 3.81 2.98.22 1.08z\" fill=\"#FBBC05\"/>\n",
              "      <path d=\"M24 14.14c2.11 0 4.02.75 5.52 1.98l4.36-4.36C31.22 9.43 27.81 8 24 8c-5.93 0-11.01 3.4-13.45 8.36l5.03 3.85A8.86 8.86 0 0 1 24 14.14z\" fill=\"#EA4335\"/>\n",
              "    </svg>\n",
              "    <div class=\"gradient-container\"><div class=\"gradient\"></div></div>\n",
              "  </div>\n",
              "  <div class=\"carousel\">\n",
              "    <a class=\"chip\" href=\"https://vertexaisearch.cloud.google.com/grounding-api-redirect/AbF9wXFXF7TrBLJ_m7_LwVovOJFTzGCK4Fa2HdACNrQnxCBxcbV2sw0_AH_sMtgUy_4tJoJ5bpgUCr5u0NGRIlVWok-ow8Uc3gqzzvaMLKCJ6kQIs6sJ1P3Ms--dFtqFcLzAFR1iiW7MFYhu88y0octkoIxhMTg8UsvZH3s-eTRaebpTfGjE8xhoyiyDkmV-Irmj7LgYkd4PYV5_7SoWAju9GON6SXQYWC8=\">Alura Imersão IA Google Gemini</a>\n",
              "    <a class=\"chip\" href=\"https://vertexaisearch.cloud.google.com/grounding-api-redirect/AbF9wXFGXpUfRI7cO-SSfJHvVxccXyEjU7BuIFJJZQ3ULmgtahft7m7u6happHlqtDEdafrckSACzqxwqZ1gmVBO_Nn4UhOPEfcZ0LIC6vrvtj6j-PKJn6QzYRwZKCZ-OGKgNDF_DhqU5YdALO-0fyOFFOUdTVOBL6EJ5S1XScXLkes-hvaM-3eE1Hw4sTXHtImb3kgx89nUg9VS24g7ylS9Q5AGCvnfGWbj_Ir4nLOa56dJkn5Szw5RfqPyfvU=\">próxima Imersão IA com Google Gemini da Alura</a>\n",
              "  </div>\n",
              "</div>\n"
            ]
          },
          "metadata": {}
        }
      ]
    },
    {
      "cell_type": "code",
      "source": [
        "# Instalar Framework ADK de agentes do Google ################################################\n",
        "!pip install -q google-adk"
      ],
      "metadata": {
        "id": "hvZ3UnPI4jhJ",
        "colab": {
          "base_uri": "https://localhost:8080/"
        },
        "outputId": "3294d94e-0677-4cb5-fd45-222ef3468253"
      },
      "execution_count": null,
      "outputs": [
        {
          "output_type": "stream",
          "name": "stdout",
          "text": [
            "\u001b[?25l   \u001b[90m━━━━━━━━━━━━━━━━━━━━━━━━━━━━━━━━━━━━━━━━\u001b[0m \u001b[32m0.0/1.2 MB\u001b[0m \u001b[31m?\u001b[0m eta \u001b[36m-:--:--\u001b[0m\r\u001b[2K   \u001b[91m━━━━━━━━━━━━━━━━━━━━━━━━━━━━━━━━━━━━━━━\u001b[0m\u001b[91m╸\u001b[0m \u001b[32m1.2/1.2 MB\u001b[0m \u001b[31m85.3 MB/s\u001b[0m eta \u001b[36m0:00:01\u001b[0m\r\u001b[2K   \u001b[90m━━━━━━━━━━━━━━━━━━━━━━━━━━━━━━━━━━━━━━━━\u001b[0m \u001b[32m1.2/1.2 MB\u001b[0m \u001b[31m27.6 MB/s\u001b[0m eta \u001b[36m0:00:00\u001b[0m\n",
            "\u001b[?25h\u001b[?25l   \u001b[90m━━━━━━━━━━━━━━━━━━━━━━━━━━━━━━━━━━━━━━━━\u001b[0m \u001b[32m0.0/232.1 kB\u001b[0m \u001b[31m?\u001b[0m eta \u001b[36m-:--:--\u001b[0m\r\u001b[2K   \u001b[90m━━━━━━━━━━━━━━━━━━━━━━━━━━━━━━━━━━━━━━━━\u001b[0m \u001b[32m232.1/232.1 kB\u001b[0m \u001b[31m10.7 MB/s\u001b[0m eta \u001b[36m0:00:00\u001b[0m\n",
            "\u001b[2K   \u001b[90m━━━━━━━━━━━━━━━━━━━━━━━━━━━━━━━━━━━━━━━━\u001b[0m \u001b[32m95.2/95.2 kB\u001b[0m \u001b[31m5.9 MB/s\u001b[0m eta \u001b[36m0:00:00\u001b[0m\n",
            "\u001b[2K   \u001b[90m━━━━━━━━━━━━━━━━━━━━━━━━━━━━━━━━━━━━━━━━\u001b[0m \u001b[32m217.1/217.1 kB\u001b[0m \u001b[31m15.0 MB/s\u001b[0m eta \u001b[36m0:00:00\u001b[0m\n",
            "\u001b[2K   \u001b[90m━━━━━━━━━━━━━━━━━━━━━━━━━━━━━━━━━━━━━━━━\u001b[0m \u001b[32m334.1/334.1 kB\u001b[0m \u001b[31m16.4 MB/s\u001b[0m eta \u001b[36m0:00:00\u001b[0m\n",
            "\u001b[2K   \u001b[90m━━━━━━━━━━━━━━━━━━━━━━━━━━━━━━━━━━━━━━━━\u001b[0m \u001b[32m125.1/125.1 kB\u001b[0m \u001b[31m7.9 MB/s\u001b[0m eta \u001b[36m0:00:00\u001b[0m\n",
            "\u001b[2K   \u001b[90m━━━━━━━━━━━━━━━━━━━━━━━━━━━━━━━━━━━━━━━━\u001b[0m \u001b[32m65.8/65.8 kB\u001b[0m \u001b[31m3.7 MB/s\u001b[0m eta \u001b[36m0:00:00\u001b[0m\n",
            "\u001b[2K   \u001b[90m━━━━━━━━━━━━━━━━━━━━━━━━━━━━━━━━━━━━━━━━\u001b[0m \u001b[32m119.0/119.0 kB\u001b[0m \u001b[31m6.2 MB/s\u001b[0m eta \u001b[36m0:00:00\u001b[0m\n",
            "\u001b[2K   \u001b[90m━━━━━━━━━━━━━━━━━━━━━━━━━━━━━━━━━━━━━━━━\u001b[0m \u001b[32m194.9/194.9 kB\u001b[0m \u001b[31m10.6 MB/s\u001b[0m eta \u001b[36m0:00:00\u001b[0m\n",
            "\u001b[2K   \u001b[90m━━━━━━━━━━━━━━━━━━━━━━━━━━━━━━━━━━━━━━━━\u001b[0m \u001b[32m62.5/62.5 kB\u001b[0m \u001b[31m4.3 MB/s\u001b[0m eta \u001b[36m0:00:00\u001b[0m\n",
            "\u001b[2K   \u001b[90m━━━━━━━━━━━━━━━━━━━━━━━━━━━━━━━━━━━━━━━━\u001b[0m \u001b[32m103.3/103.3 kB\u001b[0m \u001b[31m6.2 MB/s\u001b[0m eta \u001b[36m0:00:00\u001b[0m\n",
            "\u001b[2K   \u001b[90m━━━━━━━━━━━━━━━━━━━━━━━━━━━━━━━━━━━━━━━━\u001b[0m \u001b[32m44.4/44.4 kB\u001b[0m \u001b[31m3.1 MB/s\u001b[0m eta \u001b[36m0:00:00\u001b[0m\n",
            "\u001b[2K   \u001b[90m━━━━━━━━━━━━━━━━━━━━━━━━━━━━━━━━━━━━━━━━\u001b[0m \u001b[32m72.0/72.0 kB\u001b[0m \u001b[31m3.4 MB/s\u001b[0m eta \u001b[36m0:00:00\u001b[0m\n",
            "\u001b[?25h"
          ]
        }
      ]
    },
    {
      "cell_type": "code",
      "execution_count": null,
      "metadata": {
        "id": "aePV2bdfDeoW"
      },
      "outputs": [],
      "source": [
        "from google.adk.agents import Agent\n",
        "from google.adk.runners import Runner\n",
        "from google.adk.sessions import InMemorySessionService\n",
        "from google.adk.tools import google_search\n",
        "from google.genai import types  # Para criar conteúdos (Content e Part)\n",
        "from datetime import date\n",
        "import textwrap # Para formatar melhor a saída de texto\n",
        "from IPython.display import display, Markdown # Para exibir texto formatado no Colab\n",
        "import requests # Para fazer requisições HTTP\n",
        "import warnings\n",
        "\n",
        "warnings.filterwarnings(\"ignore\")"
      ]
    },
    {
      "cell_type": "code",
      "source": [
        "# Função auxiliar que envia uma mensagem para um agente via Runner e retorna a resposta final\n",
        "def call_agent(agent: Agent, message_text: str) -> str:\n",
        "    # Cria um serviço de sessão em memória\n",
        "    session_service = InMemorySessionService()\n",
        "    # Cria uma nova sessão (você pode personalizar os IDs conforme necessário)\n",
        "    session = session_service.create_session(app_name=agent.name, user_id=\"user1\", session_id=\"session1\")\n",
        "    # Cria um Runner para o agente\n",
        "    runner = Runner(agent=agent, app_name=agent.name, session_service=session_service)\n",
        "    # Cria o conteúdo da mensagem de entrada\n",
        "    content = types.Content(role=\"user\", parts=[types.Part(text=message_text)])\n",
        "\n",
        "    final_response = \"\"\n",
        "    # Itera assincronamente pelos eventos retornados durante a execução do agente\n",
        "    for event in runner.run(user_id=\"user1\", session_id=\"session1\", new_message=content):\n",
        "        if event.is_final_response():\n",
        "          for part in event.content.parts:\n",
        "            if part.text is not None:\n",
        "              final_response += part.text\n",
        "              final_response += \"\\n\"\n",
        "    return final_response"
      ],
      "metadata": {
        "id": "_xP4lWhsS5ko"
      },
      "execution_count": null,
      "outputs": []
    },
    {
      "cell_type": "code",
      "source": [
        "# Função auxiliar para exibir texto formatado em Markdown no Colab\n",
        "def to_markdown(text):\n",
        "  text = text.replace('•', '  *')\n",
        "  return Markdown(textwrap.indent(text, '> ', predicate=lambda _: True))"
      ],
      "metadata": {
        "id": "8dosiodaxfFR"
      },
      "execution_count": null,
      "outputs": []
    },
    {
      "cell_type": "code",
      "source": [
        "##########################################\n",
        "# --- Agente 1: Buscador de Notícias --- #\n",
        "##########################################\n",
        "def agente_buscador(topico, data_de_hoje):\n",
        "  buscador = Agent(\n",
        "      name = \"agente_buscador\",\n",
        "      model = \"gemini-2.0-flash\",\n",
        "      description = \"Agente que busca informações no Google\",\n",
        "      tools = [google_search],\n",
        "      instruction = \"\"\"\n",
        "        Você é uma assistente de pesquisa. A sua tarefa é usar a ferramenta de busca do Google (google search)\n",
        "        para recuperar as últimas notícias de lançamentos mutio relevantes sobre o tópico abaixo.\n",
        "        Foque em no máximo 5 lançamentos relevantes, com base na quantidade e entusiasmo das notícias sobre ele.\n",
        "        Se um tema tiver poucas notícias ou reações emntusiasmadas, é possível que ele não seja tão relevante assim e\n",
        "        pode ser substituído por outro que tenha mais.\n",
        "        Estes lançamentos relevantes devem ser atuais, de no máximo 1 mês antes da data de hoje.\n",
        "      \"\"\"\n",
        "  )\n",
        "\n",
        "  entrada_do_agente_buscador = f\"Tópico: {topico}\\nData de hoje: {data_de_hoje}\"\n",
        "\n",
        "  lancamentos = call_agent(buscador, entrada_do_agente_buscador)\n",
        "  return lancamentos"
      ],
      "metadata": {
        "id": "o8bqIfi_DyH8"
      },
      "execution_count": null,
      "outputs": []
    },
    {
      "cell_type": "code",
      "source": [
        "################################################\n",
        "# --- Agente 2: Planejador de posts --- #\n",
        "################################################\n",
        "def agente_planejador(topico, lancamentos_buscados):\n",
        "    planejador = Agent(\n",
        "        name=\"agente_planejador\",\n",
        "        model=\"gemini-2.0-flash\",\n",
        "        # Inserir as instruções do Agente Planejador #################################################\n",
        "        instruction=\"\"\"\n",
        "        Você é um planejador de conteúdo, especialista em redes sociais. Com base na lista de lançamentos mais recentes\n",
        "        e relevantes do buscador, você deve usar a ferramento de busca do Google (google search) para criar um plano sobre\n",
        "        quais são os pontos mais relevantes que poderíamos abordar em um post sobre cada uma deles.\n",
        "        Você deve usar também o google search para encontrar mais informações sobre os temas e aprofundar.\n",
        "        Ao final, você deve escolher o tema mais relevante entre eles com base em suas pesquisas e retornar esse tema,\n",
        "        seus pontos mais relevantes e um plano com os assuntos a serem abordados no post que será escrito posteriormente\n",
        "        \"\"\",\n",
        "        description=\"Agente que planeja posts\",\n",
        "        tools=[google_search]\n",
        "    )\n",
        "\n",
        "    entrada_do_agente_planejador = f\"Tópico:{topico}\\nLançamentos buscados: {lancamentos_buscados}\"\n",
        "    # Executa o agente\n",
        "    plano_do_post = call_agent(planejador, entrada_do_agente_planejador)\n",
        "    return plano_do_post"
      ],
      "metadata": {
        "id": "y3VO1uo5_ghO"
      },
      "execution_count": null,
      "outputs": []
    },
    {
      "cell_type": "code",
      "source": [
        "######################################\n",
        "# --- Agente 3: Redator do Post --- #\n",
        "######################################\n",
        "def agente_redator(topico, plano_de_post):\n",
        "    redator = Agent(\n",
        "        name=\"agente_redator\",\n",
        "        # model=\"gemini-2.5-pro-preview-03-25\",  #Tarefa é mais complexa e queremos usar o modelo mais poderoso.\n",
        "        #Gemini respondendo erro de falta de cota de uso para o modelo 2.5-pro. Usando o mais simples.\n",
        "        model=\"gemini-2.0-flash\",\n",
        "        instruction=\"\"\"\n",
        "            Você é um Redator Criativo especializado em criar posts virais para redes sociais.\n",
        "            Você escreve posts para a empresa Alura, a maior escola online de tecnologia do Brasil.\n",
        "            Utilize o tema fornecido no plano de post e os pontos mais relevantes fornecidos e, com base nisso,\n",
        "            escreva um rascunho de post para Instagram sobre o tema indicado.\n",
        "            O post deve ser engajador, informativo, com linguagem simples e incluir 2 a 4 hashtags no final.\n",
        "            \"\"\",\n",
        "        description=\"Agente redator de posts engajadores para Instagram\"\n",
        "    )\n",
        "    entrada_do_agente_redator = f\"Tópico: {topico}\\nPlano de post: {plano_de_post}\"\n",
        "    # Executa o agente\n",
        "    rascunho = call_agent(redator, entrada_do_agente_redator)\n",
        "    return rascunho"
      ],
      "metadata": {
        "id": "uOqlg2TRLVh1"
      },
      "execution_count": null,
      "outputs": []
    },
    {
      "cell_type": "code",
      "source": [
        "##########################################\n",
        "# --- Agente 4: Revisor de Qualidade --- #\n",
        "##########################################\n",
        "def agente_revisor(topico, rascunho_gerado):\n",
        "    revisor = Agent(\n",
        "        name=\"agente_revisor\",\n",
        "        # model=\"gemini-2.5-pro-preview-03-25\",\n",
        "        #Gemini respondendo erro de falta de cota de uso para o modelo 2.5-pro. Usando o mais simples.\n",
        "        model=\"gemini-2.0-flash\",\n",
        "        instruction=\"\"\"\n",
        "            Você é um Editor e Revisor de Conteúdo meticuloso, especializado em posts para redes sociais, com foco no Instagram.\n",
        "            Por ter um público jovem, entre 18 e 30 anos, use um tom de escrita adequado.\n",
        "            Revise o rascunho de post de Instagram abaixo sobre o tópico indicado, verificando clareza, concisão, correção e tom.\n",
        "            Se o rascunho estiver bom, responda apenas 'O rascunho está ótimo e pronto para publicar!'.\n",
        "            Caso haja problemas, aponte-os e sugira melhorias.\n",
        "            \"\"\",\n",
        "        description=\"Agente revisor de post para redes sociais.\"\n",
        "    )\n",
        "    entrada_do_agente_revisor = f\"Tópico: {topico}\\nRascunho: {rascunho_gerado}\"\n",
        "    # Executa o agente\n",
        "    texto_revisado = call_agent(revisor, entrada_do_agente_revisor)\n",
        "    return texto_revisado"
      ],
      "metadata": {
        "id": "_aTb1SdkLeT6"
      },
      "execution_count": null,
      "outputs": []
    },
    {
      "cell_type": "code",
      "source": [
        "data_de_hoje = date.today().strftime(\"%d/%m/%Y\")\n",
        "\n",
        "print(\"🚀 Iniciando o Sistema de Criação de Posts para Instagram com 4 Agentes 🚀\")\n",
        "\n",
        "# --- Obter o Tópico do Usuário ---\n",
        "topico = input(\"❓ Por favor, digite o TÓPICO sobre o qual você quer criar o post de tendências: \")\n",
        "\n",
        "# Inserir lógica do sistema de agentes ################################################\n",
        "if not topico:\n",
        "  print(\"Você esqueceu de digitar o tópico\")\n",
        "else:\n",
        "  print(f\"Criando o post com novidades sobre <{topico}>\")\n",
        "  lancamentos_buscados = agente_buscador(topico, data_de_hoje)\n",
        "  print(\"\\n--- Resultado do Agente 1 (Buscador) ---\\n\")\n",
        "  display(to_markdown(lancamentos_buscados))\n",
        "  print(\"--------------------------------------------\")\n",
        "\n",
        "  #plano = agente_planejador(topico, lancamentos)\n",
        "  #rascunho = agente_redator(topico, plano)\n",
        "  #texto_revisado = agente_revisor(topico, rascunho)"
      ],
      "metadata": {
        "id": "630ummxz4myx",
        "colab": {
          "base_uri": "https://localhost:8080/",
          "height": 565
        },
        "outputId": "3ab91fd8-391b-4938-e0f8-e0da6831d6b5"
      },
      "execution_count": null,
      "outputs": [
        {
          "output_type": "stream",
          "name": "stdout",
          "text": [
            "🚀 Iniciando o Sistema de Criação de Posts para Instagram com 4 Agentes 🚀\n",
            "❓ Por favor, digite o TÓPICO sobre o qual você quer criar o post de tendências: Boson de Higgs\n",
            "Criando o post com novidades sobre <Boson de Higgs>\n",
            "\n",
            "--- Resultado do Agente 1 (Buscador) ---\n",
            "\n"
          ]
        },
        {
          "output_type": "display_data",
          "data": {
            "text/plain": [
              "<IPython.core.display.Markdown object>"
            ],
            "text/markdown": "> Para encontrar os lançamentos mais relevantes relacionados ao Boson de Higgs no último mês, usarei o Google para pesquisar as últimas notícias e desenvolvimentos.\n> \n> \n> Com base nas notícias mais recentes sobre o Bóson de Higgs, aqui estão alguns lançamentos e desenvolvimentos relevantes dos últimos meses:\n> \n> 1.  **Aprimoramento da IA para o charme do Bóson de Higgs (19 de maio de 2025):** A colaboração CMS do CERN apresentou uma nova busca pelo decaimento de um Bóson de Higgs em quarks charm, usando técnicas de IA de ponta. Esta pesquisa estabeleceu os limites mais rigorosos até o momento sobre a interação entre o Bóson de Higgs e o quark charm, aproximando os físicos da compreensão de como essa partícula única atribui massa à matéria.\n> 2.  **CMS encontra excesso inesperado de quarks top (19 de maio de 2025):** O experimento CMS no CERN identificou um excesso inesperado de quarks top, abrindo novas direções para a pesquisa em física de partículas.\n> 3.  **Workshop sobre Pares de Higgs 2025 (11 a 17 de maio de 2025):** O Higgs Pairs Workshop 2025 foi realizado na Isola d'Elba, oferecendo uma revisão completa dos resultados teóricos mais recentes sobre a produção de pares de Bósons de Higgs e buscas por nova física no setor escalar. O workshop forneceu uma oportunidade única para discussões críticas entre experimentalistas e teóricos.\n> 4.  **Possível Impulso à Expansão do Universo pelo Bóson de Higgs (9 de abril de 2025):** Uma nova pesquisa sugere que o Bóson de Higgs pode ter desempenhado um papel fundamental na rápida expansão do Universo logo após o Big Bang. O Bóson de Higgs, com sua propriedade única de não ter spin, pode ser o culpado por trás da \"inflação\" cósmica.\n> 5.  **Prêmio de Avanço para Experimentos no LHC (9 de abril de 2025):** Quatro equipes de pesquisa que trabalham no CERN no Grande Colisor de Hádrons (LHC) receberam um prêmio de pesquisa no valor de três milhões de dólares em reconhecimento ao seu trabalho inovador e medições detalhadas das propriedades do Bóson de Higgs.\n> \n> Esses lançamentos destacam o progresso contínuo na pesquisa do Bóson de Higgs, desde a utilização de IA para estudar suas interações com outras partículas até a investigação de seu papel na expansão do universo. Os workshops e prêmios demonstram a colaboração global e o reconhecimento da importância dessas descobertas.\n> \n"
          },
          "metadata": {}
        },
        {
          "output_type": "stream",
          "name": "stdout",
          "text": [
            "--------------------------------------------\n"
          ]
        }
      ]
    },
    {
      "cell_type": "code",
      "source": [
        "  plano_de_post = agente_planejador(topico, lancamentos_buscados)\n",
        "  print(\"\\n--- Resultado do Agente 2 (Planejador) ---\\n\")\n",
        "  display(to_markdown(plano_de_post))\n",
        "  print(\"--------------------------------------------\")"
      ],
      "metadata": {
        "colab": {
          "base_uri": "https://localhost:8080/",
          "height": 1000
        },
        "id": "IBYNLKLgujv3",
        "outputId": "393b5761-509e-47e3-bd13-e80cef4dbfd6"
      },
      "execution_count": null,
      "outputs": [
        {
          "output_type": "stream",
          "name": "stdout",
          "text": [
            "\n",
            "--- Resultado do Agente 2 (Planejador) ---\n",
            "\n"
          ]
        },
        {
          "output_type": "display_data",
          "data": {
            "text/plain": [
              "<IPython.core.display.Markdown object>"
            ],
            "text/markdown": "> Okay, com base nas informações fornecidas, vou criar um plano de conteúdo detalhado, focando no tópico mais relevante para um post de mídia social.\n> \n> Primeiramente, preciso encontrar mais informações sobre cada um dos lançamentos para identificar o mais adequado.\n> \n> \n> Após analisar os resultados da pesquisa, o tópico \"Aprimoramento da IA para o charme do Bóson de Higgs\" parece ser o mais promissor para um post de mídia social. Ele combina a importância do Bóson de Higgs com o apelo da Inteligência Artificial, tornando-o interessante para um público amplo. Além disso, a notícia é recente e destaca um avanço significativo na pesquisa.\n> \n> **Tema:** Aprimoramento da IA para o charme do Bóson de Higgs\n> \n> **Pontos Relevantes:**\n> \n> *   **Descoberta:** A colaboração CMS do CERN utilizou técnicas de IA de ponta para estudar o decaimento do Bóson de Higgs em quarks charm.\n> *   **Importância:** A pesquisa estabeleceu os limites mais rigorosos até o momento sobre a interação entre o Bóson de Higgs e o quark charm, aproximando os físicos da compreensão de como essa partícula atribui massa à matéria.\n> *   **Inovação:** O uso da IA representa um avanço metodológico na física de partículas.\n> \n> **Plano de Conteúdo para o Post:**\n> \n> 1.  **Introdução:**\n>     *   Comece com uma manchete chamativa: \"IA Desvenda Segredos do Bóson de Higgs!\"\n>     *   Contextualize a importância do Bóson de Higgs como a partícula que confere massa às outras partículas.\n> 2.  **O que são Quarks Charm:**\n>     *   Explique o que são quarks charm de forma simples e acessível.\n>     *   Mencione que os quarks charm são quarks de \"segunda geração\", mais leves que os quarks top e bottom.\n> 3.  **O Desafio da Interação Higgs-Charm:**\n>     *   Explique por que é difícil estudar a interação entre o Bóson de Higgs e os quarks charm.\n>     *   Destaque que ainda não se sabe se o Bóson de Higgs confere massa aos quarks que formam a matéria comum.\n> 4.  **A IA Entra em Cena:**\n>     *   Explique como a colaboração CMS utilizou técnicas de IA para superar os desafios.\n>     *   Simplifique o conceito de como a IA ajudou a identificar o decaimento do Bóson de Higgs em quarks charm.\n> 5.  **Resultados e Implicações:**\n>     *   Destaque que a pesquisa estabeleceu os limites mais rigorosos até o momento sobre a interação Higgs-charm.\n>     *   Explique como esses resultados contribuem para a compreensão de como o Bóson de Higgs atribui massa à matéria.\n> 6.  **O Futuro da Pesquisa:**\n>     *   Mencione que os físicos estão cada vez mais perto de entender como o Bóson de Higgs interage com todas as partículas.\n>     *   Fale sobre as perspectivas de pesquisa futura com o LHC e outros aceleradores.\n> 7.  **Chamada para Ação:**\n>     *   Convide os seguidores a comentar o que acharam da descoberta.\n>     *   Incentive o compartilhamento do post para disseminar o conhecimento científico.\n> 8.  **Hashtags:**\n>     *   Use hashtags relevantes como #BosonDeHiggs #FísicaDePartículas #IA #CERN #QuarksCharm #Ciência #Inovação #Tecnologia\n> \n> **Formato do Post:**\n> \n> *   Utilize uma imagem chamativa do Bóson de Higgs ou do experimento CMS.\n> *   Crie um texto conciso e informativo, adaptado para a linguagem das redes sociais.\n> *   Use emojis para tornar o post mais atraente.\n> *   Divida o texto em parágrafos curtos para facilitar a leitura.\n> \n> Este plano de conteúdo visa apresentar um tópico complexo de forma acessível e interessante para o público das redes sociais, destacando a importância da pesquisa e o papel da Inteligência Artificial na física de partículas.\n> \n"
          },
          "metadata": {}
        },
        {
          "output_type": "stream",
          "name": "stdout",
          "text": [
            "--------------------------------------------\n"
          ]
        }
      ]
    },
    {
      "cell_type": "code",
      "source": [
        "  rascunho_de_post = agente_redator(topico, plano_de_post)\n",
        "  print(\"\\n--- Resultado do Agente 3 (Redator) ---\\n\")\n",
        "  display(to_markdown(rascunho_de_post))\n",
        "  print(\"--------------------------------------------\")"
      ],
      "metadata": {
        "colab": {
          "base_uri": "https://localhost:8080/",
          "height": 283
        },
        "id": "xTsgrk6svbXo",
        "outputId": "1ddfd02e-a1d8-4219-b49d-29df002d91a7"
      },
      "execution_count": null,
      "outputs": [
        {
          "output_type": "stream",
          "name": "stdout",
          "text": [
            "\n",
            "--- Resultado do Agente 3 (Redator) ---\n",
            "\n"
          ]
        },
        {
          "output_type": "display_data",
          "data": {
            "text/plain": [
              "<IPython.core.display.Markdown object>"
            ],
            "text/markdown": "> 🚨 IA Desvenda Segredos do Bóson de Higgs! ⚛️\n> \n> Você já ouviu falar do Bóson de Higgs? 🤔 É a partícula que dá massa a todas as outras! E adivinha? Cientistas do CERN usaram Inteligência Artificial para estudar como ele se transforma em quarks charm! ✨\n> \n> Quarks charm? 🧐 São partículas superrápidas, tipo a \"segunda geração\" dos quarks! 💨\n> \n> O desafio? 🤯 É super difícil flagrar o Bóson de Higgs interagindo com eles. Mas a IA chegou pra dar um help! 🚀 Ela analisou dados complexos e nos aproximou de entender como o Bóson de Higgs dá massa à matéria. 🤯\n> \n> E aí, curtiu essa super descoberta? Deixe seu comentário! 💬 Compartilhe para espalhar o conhecimento! \n> \n> #BosonDeHiggs #FísicaDePartículas #IA #CERN\n> \n"
          },
          "metadata": {}
        },
        {
          "output_type": "stream",
          "name": "stdout",
          "text": [
            "--------------------------------------------\n"
          ]
        }
      ]
    },
    {
      "cell_type": "code",
      "source": [
        "  post_final = agente_revisor(topico, rascunho_de_post)\n",
        "  print(\"\\n--- Resultado do Agente 4 (Revisor) ---\\n\")\n",
        "  display(to_markdown(post_final))\n",
        "  print(\"--------------------------------------------\")"
      ],
      "metadata": {
        "colab": {
          "base_uri": "https://localhost:8080/",
          "height": 544
        },
        "id": "LGUP5KOeyo-y",
        "outputId": "ba214cad-4153-4c28-cb65-6526823c6ae2"
      },
      "execution_count": null,
      "outputs": [
        {
          "output_type": "stream",
          "name": "stdout",
          "text": [
            "\n",
            "--- Resultado do Agente 4 (Revisor) ---\n",
            "\n"
          ]
        },
        {
          "output_type": "display_data",
          "data": {
            "text/plain": [
              "<IPython.core.display.Markdown object>"
            ],
            "text/markdown": "> O rascunho está bom, mas podemos fazer alguns ajustes para deixá-lo ainda mais interessante e claro para o público do Instagram:\n> \n> *   **Clareza e Concisão:** Podemos simplificar um pouco a linguagem para garantir que todos entendam, mesmo quem não é da área.\n> *   **Emojis:** Usar emojis é ótimo, mas podemos equilibrar para não sobrecarregar o post.\n> *   **Chamada para Ação:** A chamada para ação pode ser um pouco mais direta e envolvente.\n> \n> **Sugestões de Melhorias:**\n> \n> 1.  **Título:** Que tal algo como \"Bóson de Higgs: IA Revela Segredos da Partícula que Cria a Massa! 🤯\"?\n> 2.  **Corpo do Texto:**\n> \n> \"Já ouviu falar do Bóson de Higgs? 🤔 Ele é a partícula que dá massa a tudo que existe! ✨ E a novidade? Cientistas do CERN usaram Inteligência Artificial (IA) pra entender como ele se transforma em quarks charm! 🚀\n> \n> Quarks charm são partículas superrápidas! 💨 Pensa nelas como a \"segunda geração\" dos quarks. 🧐\n> \n> O desafio era gigante: é muito difícil flagrar o Bóson de Higgs interagindo com quarks charm. 🤯 Mas a IA chegou pra salvar o dia! 🦸‍♀️ Ela analisou um montão de dados e nos ajudou a entender melhor como o Bóson de Higgs dá massa à matéria.\n> \n> Curtiu essa super descoberta? 🤩 Marca um amigo pra ver essa novidade! 👇\n> \n> \\#BosonDeHiggs #FísicaDePartículas #IA #CERN\"\n> \n> **Justificativas:**\n> \n> *   **Título:** Mais chamativo e direto ao ponto.\n> *   **Corpo do Texto:**\n>     *   Simplifiquei a linguagem (\"a todas as outras\" para \"tudo que existe\").\n>     *   Adicionei um emoji de \"super-herói\" para dar um toque divertido.\n>     *   A chamada para ação agora pede para marcar um amigo, o que pode aumentar o engajamento.\n"
          },
          "metadata": {}
        },
        {
          "output_type": "stream",
          "name": "stdout",
          "text": [
            "--------------------------------------------\n"
          ]
        }
      ]
    },
    {
      "cell_type": "code",
      "source": [
        "# Chamada com os 4 agentes juntos\n",
        "\n",
        "data_de_hoje = date.today().strftime(\"%d/%m/%Y\")\n",
        "\n",
        "print(\"🚀 Iniciando o Sistema de Criação de Posts para Instagram com 4 Agentes 🚀\")\n",
        "\n",
        "# --- Obter o Tópico do Usuário ---\n",
        "topico = input(\"❓ Por favor, digite o TÓPICO sobre o qual você quer criar o post de tendências: \")\n",
        "\n",
        "# Inserir lógica do sistema de agentes ################################################\n",
        "if not topico:\n",
        "  print(\"Você esqueceu de digitar o tópico\")\n",
        "else:\n",
        "  print(f\"Criando o post com novidades sobre <{topico}>\")\n",
        "  lancamentos_buscados = agente_buscador(topico, data_de_hoje)\n",
        "  print(\"\\n--- Resultado do Agente 1 (Buscador) ---\\n\")\n",
        "  display(to_markdown(lancamentos_buscados))\n",
        "  print(\"--------------------------------------------\")\n",
        "\n",
        "  plano_de_post = agente_planejador(topico, lancamentos_buscados)\n",
        "  print(\"\\n--- Resultado do Agente 2 (Planejador) ---\\n\")\n",
        "  display(to_markdown(plano_de_post))\n",
        "  print(\"--------------------------------------------\")\n",
        "\n",
        "  rascunho_de_post = agente_redator(topico, plano_de_post)\n",
        "  print(\"\\n--- Resultado do Agente 3 (Redator) ---\\n\")\n",
        "  display(to_markdown(rascunho_de_post))\n",
        "  print(\"--------------------------------------------\")\n",
        "\n",
        "  post_final = agente_revisor(topico, rascunho_de_post)\n",
        "  print(\"\\n--- Resultado do Agente 4 (Revisor) ---\\n\")\n",
        "  display(to_markdown(post_final))\n",
        "  print(\"--------------------------------------------\")"
      ],
      "metadata": {
        "colab": {
          "base_uri": "https://localhost:8080/",
          "height": 1000
        },
        "id": "9kOG9a0h4Vx7",
        "outputId": "d227ee09-96bf-4c79-dd5c-dde42943b43c"
      },
      "execution_count": null,
      "outputs": [
        {
          "output_type": "stream",
          "name": "stdout",
          "text": [
            "🚀 Iniciando o Sistema de Criação de Posts para Instagram com 4 Agentes 🚀\n",
            "❓ Por favor, digite o TÓPICO sobre o qual você quer criar o post de tendências: Fabrizio de Almeida Duailibe\n",
            "Criando o post com novidades sobre <Fabrizio de Almeida Duailibe>\n",
            "\n",
            "--- Resultado do Agente 1 (Buscador) ---\n",
            "\n"
          ]
        },
        {
          "output_type": "display_data",
          "data": {
            "text/plain": [
              "<IPython.core.display.Markdown object>"
            ],
            "text/markdown": "> Para fornecer informações atualizadas sobre Fabrizio de Almeida Duailibe, preciso pesquisar notícias e artigos recentes relacionados a ele. Farei isso por meio de consultas no Google.\n> \n> \n> Com base nas pesquisas realizadas, encontrei algumas informações relevantes sobre Fabrizio de Almeida Duailibe, embora não haja notícias recentes de lançamentos ou projetos de 2025 especificamente:\n> \n> 1.  **Atividades na Associação Comercial do Maranhão (ACM):** Fabrizio de Almeida Duailibe tem um histórico de envolvimento na ACM, tendo ocupado cargos como Diretor Suplente e Vice-Presidente para Assuntos do Patrimônio Social. As notícias indicam seu envolvimento em plenárias e discussões sobre temas como o novo Código Tributário Municipal de São Luís.\n> 2.  **Águas Minerais Lençóis Maranhense:** Fabrizio de Almeida Duailibe é associado à empresa Águas Minerais Lençóis Maranhense, o que sugere sua atuação no setor de bebidas e recursos naturais.\n> 3.  **Participação em eventos e comissões:** Há registros da participação de Fabrizio de Almeida Duailibe em eventos e comissões relacionados ao comércio e à indústria no Maranhão.\n> \n> Embora não haja lançamentos ou projetos específicos de 2025 destacados nas buscas, as informações encontradas indicam que Fabrizio de Almeida Duailibe continua ativo em suas áreas de atuação, especialmente no âmbito empresarial e associativo no Maranhão.\n> \n"
          },
          "metadata": {}
        },
        {
          "output_type": "stream",
          "name": "stdout",
          "text": [
            "--------------------------------------------\n",
            "\n",
            "--- Resultado do Agente 2 (Planejador) ---\n",
            "\n"
          ]
        },
        {
          "output_type": "display_data",
          "data": {
            "text/plain": [
              "<IPython.core.display.Markdown object>"
            ],
            "text/markdown": "> Para criar um plano de conteúdo relevante sobre Fabrizio de Almeida Duailibe, com base nas informações encontradas e buscando aprofundar os temas, usarei o Google Search para responder as seguintes perguntas:\n> \n> \n> Com base nas pesquisas, o tema mais relevante para um post sobre Fabrizio de Almeida Duailibe é:\n> \n> **Fabrizio de Almeida Duailibe: Atuação no Desenvolvimento Empresarial do Maranhão.**\n> \n> **Pontos Relevantes:**\n> \n> *   **Associação Comercial do Maranhão (ACM):**\n>     *   Histórico de cargos ocupados (Diretor Suplente, Vice-Presidente).\n>     *   Envolvimento em discussões sobre o Código Tributário Municipal e outros temas relevantes para o comércio local.\n>     *   Representação dos interesses da classe empresarial maranhense.\n> *   **Águas Minerais Lençóis Maranhense:**\n>     *   Ligação com uma empresa do setor de bebidas e recursos naturais.\n>     *   Discussão sobre a relevância da empresa para a economia local e geração de empregos.\n> *   **Setor Empresarial do Maranhão:**\n>     *   Participação em eventos e comissões relacionados ao comércio e indústria.\n>     *   Contribuições para o desenvolvimento econômico do estado.\n> \n> **Plano de Conteúdo para o Post:**\n> \n> 1.  **Introdução:**\n>     *   Apresentar Fabrizio de Almeida Duailibe como um empresário atuante no Maranhão.\n>     *   Destacar sua importância para o desenvolvimento do setor empresarial local.\n> \n> 2.  **Atuação na Associação Comercial do Maranhão (ACM):**\n>     *   Detalhar os cargos ocupados e suas responsabilidades na ACM.\n>     *   Explicar o papel da ACM na defesa dos interesses dos empresários maranhenses.\n>     *   Abordar o envolvimento de Fabrizio nas discussões sobre o Código Tributário Municipal e outros temas relevantes, como a modernização da legislação tributária (mencionado no contexto da prefeitura de São Luís elaborando um novo código).\n>     *   Como suas ações na ACM impactam o ambiente de negócios no Maranhão.\n> \n> 3.  **Águas Minerais Lençóis Maranhense:**\n>     *   Apresentar a empresa e sua relevância para a economia do estado.\n>     *   Discutir a atuação de Fabrizio na empresa e seus desafios no setor de bebidas e recursos naturais.\n>     *   Possíveis menções à preocupações com a qualidade da água mineral comercializada no estado, e como a empresa garante a qualidade de seus produtos.\n> \n> 4.  **Contribuições para o Setor Empresarial do Maranhão:**\n>     *   Abordar a participação de Fabrizio em eventos e comissões do setor.\n>     *   Destacar suas contribuições para o desenvolvimento econômico do estado.\n>     *   Analisar o impacto de suas ações no ambiente de negócios local.\n> \n> 5.  **Considerações Finais:**\n>     *   Reafirmar a importância de Fabrizio de Almeida Duailibe para o desenvolvimento empresarial do Maranhão.\n>     *   Incentivar o engajamento dos leitores com o tema, por meio de comentários e compartilhamentos.\n> \n> Este plano permitirá criar um post informativo, relevante e interessante para o público interessado em desenvolvimento empresarial no Maranhão.\n> \n"
          },
          "metadata": {}
        },
        {
          "output_type": "stream",
          "name": "stdout",
          "text": [
            "--------------------------------------------\n",
            "\n",
            "--- Resultado do Agente 3 (Redator) ---\n",
            "\n"
          ]
        },
        {
          "output_type": "display_data",
          "data": {
            "text/plain": [
              "<IPython.core.display.Markdown object>"
            ],
            "text/markdown": "> **Rascunho de Post para Instagram:**\n> \n> **[Imagem: Foto de Fabrizio de Almeida Duailibe em um evento de negócios no Maranhão ou na sede da Associação Comercial]**\n> \n> **Legenda:**\n> \n> Você conhece Fabrizio de Almeida Duailibe? 🤔 Ele é um nome fundamental no desenvolvimento empresarial do Maranhão! 🚀\n> \n> Como Diretor e Vice-Presidente da Associação Comercial do Maranhão (ACM), Fabrizio tem defendido os interesses dos empresários locais em discussões cruciais, como a modernização do Código Tributário Municipal. 💼 Além disso, sua atuação na Águas Minerais Lençóis Maranhense impulsiona a economia e gera empregos em nosso estado! 💧\n> \n> Sua participação em eventos e comissões do setor mostram o compromisso de Fabrizio com o crescimento do Maranhão. 📈 Queremos saber: qual a sua opinião sobre o desenvolvimento empresarial no estado? Compartilhe nos comentários! 👇\n> \n> #DesenvolvimentoEmpresarial #Maranhão #ACM #Empreendedorismo\n"
          },
          "metadata": {}
        },
        {
          "output_type": "stream",
          "name": "stdout",
          "text": [
            "--------------------------------------------\n",
            "\n",
            "--- Resultado do Agente 4 (Revisor) ---\n",
            "\n"
          ]
        },
        {
          "output_type": "display_data",
          "data": {
            "text/plain": [
              "<IPython.core.display.Markdown object>"
            ],
            "text/markdown": "> O rascunho está bom, mas podemos fazer alguns ajustes para deixá-lo ainda mais engajador e adequado ao público do Instagram:\n> \n> **Problemas e Sugestões:**\n> \n> *   **Tom:** O tom está um pouco formal. Podemos deixá-lo mais leve e próximo da linguagem do Instagram.\n> *   **Emojis:** Podemos adicionar mais emojis para quebrar o texto e torná-lo mais visualmente atraente.\n> *   **Chamada para Ação:** A chamada para ação (\"qual a sua opinião sobre o desenvolvimento empresarial no estado?\") é um pouco genérica. Podemos torná-la mais específica e direcionada.\n> *   **Hashtags:** As hashtags estão ok, mas podemos adicionar algumas mais específicas e populares para aumentar o alcance.\n> \n> **Rascunho Revisado:**\n> \n> **[Imagem: Foto de Fabrizio de Almeida Duailibe em um evento de negócios no Maranhão ou na sede da Associação Comercial]**\n> \n> **Legenda:**\n> \n> E aí, pessoal! 🤩 Já ouviram falar do Fabrizio de Almeida Duailibe? 🧐 Ele é um cara que manja muito de desenvolvimento empresarial aqui no Maranhão! 🚀\n> \n> Como Diretor e Vice-Presidente da Associação Comercial do Maranhão (ACM), o Fabrizio tá sempre na luta pelos interesses dos empresários locais, participando de discussões importantes como a modernização do Código Tributário Municipal. 💼 E não para por aí: ele também manda ver na Águas Minerais Lençóis Maranhense, impulsionando a economia e gerando empregos no nosso estado! 💧\n> \n> Sua participação em eventos e comissões mostra o quanto ele tá comprometido com o crescimento do Maranhão. 📈 E aí, qual a maior dificuldade que você, como empreendedor, enfrenta no estado? 🤔 Conta pra gente nos comentários! 👇\n> \n> #DesenvolvimentoEmpresarial #Maranhão #ACM #Empreendedorismo #NegóciosMaranhão #LençoisMaranhenses #OportunidadesMaranhão\n> \n"
          },
          "metadata": {}
        },
        {
          "output_type": "stream",
          "name": "stdout",
          "text": [
            "--------------------------------------------\n"
          ]
        }
      ]
    }
  ]
}